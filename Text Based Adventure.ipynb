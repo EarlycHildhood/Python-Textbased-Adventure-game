{
 "cells": [
  {
   "cell_type": "code",
   "execution_count": 1,
   "metadata": {},
   "outputs": [
    {
     "name": "stdout",
     "output_type": "stream",
     "text": [
      "Hello World!\n"
     ]
    }
   ],
   "source": [
    "print ('Hello World!')"
   ]
  },
  {
   "cell_type": "code",
   "execution_count": 4,
   "metadata": {},
   "outputs": [
    {
     "name": "stdout",
     "output_type": "stream",
     "text": [
      "What's your name?Anna\n",
      "\n",
      "OK, Anna, let's get started. Remember, the following answers are only True or False.\n",
      "\n",
      "Paris is the captial of France.\n",
      ">>> True\n",
      "\n",
      "England is an island.\n",
      ">>> t\n",
      "\n",
      "Northern Ireland isn't part of Great Britian.\n",
      ">>> f\n",
      "\n",
      "Andorra is between France and Spain.\n",
      ">>> f\n",
      "\n",
      "Iran use to be part of the Perisan Empire.\n",
      ">>> t\n",
      "\n",
      "Turkmenistan isn't a real country.\n",
      ">>> t\n",
      "\n",
      "You're finished, Anna. You got 4 out of 6 correct.\n"
     ]
    }
   ],
   "source": [
    "import time\n",
    "correct = 0\n",
    "true = [\"T\", \"t\", \"True\"]\n",
    "false = [\"F\", \"f\", \"False\"]\n",
    "\n",
    "name = input(\"What's your name?\")\n",
    "\n",
    "print (\"\\nOK, \" +  name +\", let's get started. Remember, the following answers are only True or False.\")\n",
    "time.sleep(2)\n",
    "\n",
    "print (\"\\nParis is the captial of France.\")\n",
    "choice = input(\">>> \")\n",
    "if choice in true:\n",
    "  correct += 1 #If correct, the user gets one point\n",
    "else:\n",
    "  correct += 0\n",
    "  \n",
    "print (\"\\nEngland is an island.\")\n",
    "choice = input(\">>> \")\n",
    "if choice in true:\n",
    "  correct += 1\n",
    "else:\n",
    "  correct += 0  \n",
    "\n",
    "print (\"\\nNorthern Ireland isn't part of Great Britian.\")\n",
    "choice = input(\">>> \")\n",
    "if choice in false:\n",
    "  correct += 1\n",
    "else:\n",
    "  correct += 0 \n",
    "  \n",
    "print (\"\\nAndorra is between France and Spain.\")\n",
    "choice = input(\">>> \")\n",
    "if choice in true:\n",
    "  correct += 1\n",
    "else:\n",
    "  correct += 0  \n",
    "  \n",
    "print (\"\\nIran use to be part of the Perisan Empire.\")\n",
    "choice = input(\">>> \")\n",
    "if choice in true:\n",
    "  correct += 1\n",
    "else:\n",
    "  correct += 0\n",
    "  \n",
    "print (\"\\nTurkmenistan isn't a real country.\")\n",
    "choice = input(\">>> \")\n",
    "if choice in false:\n",
    "  correct += 1\n",
    "else:\n",
    "  correct += 0\n",
    "    \n",
    "print (\"\\nYou're finished, \" + name +\". You got\", correct, \"out of 6 correct.\")"
   ]
  },
  {
   "cell_type": "code",
   "execution_count": null,
   "metadata": {},
   "outputs": [],
   "source": []
  }
 ],
 "metadata": {
  "kernelspec": {
   "display_name": "Python 3",
   "language": "python",
   "name": "python3"
  },
  "language_info": {
   "codemirror_mode": {
    "name": "ipython",
    "version": 3
   },
   "file_extension": ".py",
   "mimetype": "text/x-python",
   "name": "python",
   "nbconvert_exporter": "python",
   "pygments_lexer": "ipython3",
   "version": "3.7.3"
  }
 },
 "nbformat": 4,
 "nbformat_minor": 2
}
